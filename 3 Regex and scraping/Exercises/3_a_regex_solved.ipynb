{
 "cells": [
  {
   "cell_type": "markdown",
   "metadata": {},
   "source": [
    "# Regex exercises\n",
    "\n",
    "## R-numbers\n",
    "\n",
    "Write markdown to recognize valid studentnumbers (R-numbers). A valid number starts with an R (case doesn't matter) and is followed by 7 numbers of which the first is 0 or 1.\n",
    "\n",
    "Apply it to a list of strings and as a result print two lists: the valid ones and the invalid ones."
   ]
  },
  {
   "cell_type": "code",
   "execution_count": 14,
   "metadata": {},
   "outputs": [],
   "source": [
    "# not yet"
   ]
  },
  {
   "cell_type": "markdown",
   "metadata": {},
   "source": [
    "## Numbers in text\n",
    "\n",
    "Write a Python program to search the numbers (0-9) of length between 1 to 3 in a given string.\n",
    "\n",
    "Example:\n",
    "\n",
    "> \"Exercises number 1, 12, 13, and 345 are important\"\n",
    "\n",
    "Will render:\n",
    "\n",
    "> 1                                                                                                             \n",
    "> 12                                                                                                            \n",
    "> 13                                                                                                            \n",
    "> 345"
   ]
  },
  {
   "cell_type": "code",
   "execution_count": 1,
   "metadata": {},
   "outputs": [
    {
     "name": "stdout",
     "output_type": "stream",
     "text": [
      "Number of length 1 to 3\n",
      "1\n",
      "12\n",
      "13\n",
      "345\n"
     ]
    }
   ],
   "source": [
    "# DELETE\n",
    "\n",
    "import re\n",
    "results = re.finditer(r\"([0-9]{1,3})\", \"Exercises number 1, 12, 13, and 345 are important\")\n",
    "print(\"Number of length 1 to 3\")\n",
    "for n in results:\n",
    "     print(n.group(0))"
   ]
  },
  {
   "cell_type": "markdown",
   "metadata": {},
   "source": [
    "## Find text\n",
    "\n",
    "Write a Python program to search some literals strings in a string.\n",
    "\n",
    "Example:\n",
    "\n",
    "> Sample text : 'The quick brown fox jumps over the lazy dog.'\n",
    "> Searched words : 'fox', 'dog', 'horse'\n",
    "\n",
    "Will render:\n",
    "\n",
    "> Searching for \"fox\" in \"The quick brown fox jumps over the lazy dog.\" -> Matched!                                                                                                      \n",
    "> Searching for \"dog\" in \"The quick brown fox jumps over the lazy dog.\" -> Matched!                                                                                                      \n",
    "> Searching for \"horse\" in \"The quick brown fox jumps over the lazy dog.\" -> Not Matched!"
   ]
  },
  {
   "cell_type": "code",
   "execution_count": 16,
   "metadata": {},
   "outputs": [
    {
     "name": "stdout",
     "output_type": "stream",
     "text": [
      "Searching for \"fox\" in \"The quick brown fox jumps over the lazy dog.\" -> Matched!\n",
      "Searching for \"dog\" in \"The quick brown fox jumps over the lazy dog.\" -> Matched!\n",
      "Searching for \"horse\" in \"The quick brown fox jumps over the lazy dog.\" -> Not Matched!\n"
     ]
    }
   ],
   "source": [
    "# DELETE\n",
    "\n",
    "import re\n",
    "patterns = [ 'fox', 'dog', 'horse' ]\n",
    "text = 'The quick brown fox jumps over the lazy dog.'\n",
    "for pattern in patterns:\n",
    "    print('Searching for \"%s\" in \"%s\" ->' % (pattern, text),end=\" \")\n",
    "    if re.search(pattern,  text):\n",
    "        print('Matched!')\n",
    "    else:\n",
    "        print('Not Matched!')"
   ]
  },
  {
   "cell_type": "markdown",
   "metadata": {},
   "source": [
    "## Casing\n",
    "\n",
    "Write a python program to convert snake case string to camel case string.\n",
    "\n",
    "Example:\n",
    "\n",
    "> \"PythonExercises\"\n",
    "\n",
    "Will render:\n",
    "\n",
    "> \"python_exercises\""
   ]
  },
  {
   "cell_type": "code",
   "execution_count": 17,
   "metadata": {},
   "outputs": [
    {
     "name": "stdout",
     "output_type": "stream",
     "text": [
      "python_exercises\n"
     ]
    }
   ],
   "source": [
    "# DELETE\n",
    "\n",
    "def camel_to_snake(text):\n",
    "    import re\n",
    "    str1 = re.sub('(.)([A-Z][a-z]+)', r'\\1_\\2', text)\n",
    "    return re.sub('([a-z0-9])([A-Z])', r'\\1_\\2', str1).lower()\n",
    "\n",
    "print(camel_to_snake('PythonExercises'))\n"
   ]
  },
  {
   "cell_type": "markdown",
   "metadata": {},
   "source": [
    "## Casing v2\n",
    "\n",
    "Now do the same, but have the function detect what type is used (snake or camel) and return the other.\n",
    "\n",
    "Examples:\n",
    "\n",
    "> \"PythonExercises\" -> \"python_exercises\"  \n",
    "> \"python_exercises\" -> \"PythonExercises\""
   ]
  },
  {
   "cell_type": "code",
   "execution_count": 18,
   "metadata": {},
   "outputs": [
    {
     "name": "stdout",
     "output_type": "stream",
     "text": [
      "python_exercises\n",
      "PythonExercises\n"
     ]
    }
   ],
   "source": [
    "# DELETE\n",
    "\n",
    "def convert_type(text):\n",
    "    import re\n",
    "    \n",
    "    if(re.search('_', text)):\n",
    "        # snake to camel\n",
    "        return ''.join(x.capitalize() or '_' for x in text.split('_'))\n",
    "    else:\n",
    "        # camel to snake\n",
    "        str1 = re.sub('(.)([A-Z][a-z]+)', r'\\1_\\2', text)\n",
    "        return re.sub('([a-z0-9])([A-Z])', r'\\1_\\2', str1).lower()\n",
    "\n",
    "print(convert_type('PythonExercises'))\n",
    "print(convert_type('python_exercises'))"
   ]
  },
  {
   "cell_type": "markdown",
   "metadata": {},
   "source": [
    "## Whitespaces\n",
    "\n",
    "Write a Python program to remove all whitespaces from a string."
   ]
  },
  {
   "cell_type": "code",
   "execution_count": null,
   "metadata": {},
   "outputs": [],
   "source": [
    "# DELETE\n",
    "\n",
    "import re\n",
    "text1 = 'Python      Exercises'\n",
    "print(\"Original string:\",text1)\n",
    "print(\"Without extra spaces:\",re.sub(' +',' ',text1))"
   ]
  },
  {
   "cell_type": "markdown",
   "metadata": {},
   "source": [
    "## Split\n",
    "\n",
    "Write a Python program to split a string with multiple delimiters.\n",
    "\n",
    "Note : A delimiter is a sequence of one or more characters used to specify the boundary between separate, independent regions in plain text or other data streams. An example of a delimiter is the comma character, which acts as a field delimiter in a sequence of comma-separated values.\n",
    "\n",
    "Example:\n",
    "\n",
    "> 'The quick brown\\nfox jumps*over the lazy dog.' -> ['The quick brown', 'fox jumps', 'over the lazy dog.'] "
   ]
  },
  {
   "cell_type": "code",
   "execution_count": 19,
   "metadata": {},
   "outputs": [
    {
     "name": "stdout",
     "output_type": "stream",
     "text": [
      "['The quick brown', 'fox jumps', 'over the lazy dog.']\n"
     ]
    }
   ],
   "source": [
    "# DELETE\n",
    "\n",
    "import re\n",
    "text = 'The quick brown\\nfox jumps*over the lazy dog.'\n",
    "print(re.split('; |, |\\*|\\n',text))"
   ]
  },
  {
   "cell_type": "markdown",
   "metadata": {},
   "source": [
    "## Check numbers\n",
    "\n",
    "Write a Python program to check if an input string is a number with maximally 2 digits behind the comma.\n",
    "\n",
    "Examples:\n",
    "\n",
    "> 123.11 -> True  \n",
    "> 123.1 -> True  \n",
    "> 123 -> True  \n",
    "> 0.21 -> True  \n",
    "> 123.1214 -> False  \n",
    "> 3.124587 -> False  \n",
    "> e666.86 -> False\n"
   ]
  },
  {
   "cell_type": "code",
   "execution_count": 3,
   "metadata": {},
   "outputs": [
    {
     "name": "stdout",
     "output_type": "stream",
     "text": [
      "True\n",
      "True\n",
      "True\n",
      "True\n",
      "False\n",
      "False\n",
      "False\n"
     ]
    }
   ],
   "source": [
    "# DELETE\n",
    "\n",
    "import re\n",
    "dnumre = re.compile(r\"\"\"^[0-9]+(\\.[0-9]{1,2})?$\"\"\")\n",
    "\n",
    "def is_decimal(num):\n",
    "    result = dnumre.search(num)\n",
    "    return bool(result)\n",
    "\n",
    "print(is_decimal('123.11'))\n",
    "print(is_decimal('123.1'))\n",
    "print(is_decimal('123'))\n",
    "print(is_decimal('0.21'))\n",
    "\n",
    "print(is_decimal('123.1214'))\n",
    "print(is_decimal('3.124587'))\n",
    "print(is_decimal('e666.86'))"
   ]
  },
  {
   "cell_type": "markdown",
   "metadata": {},
   "source": [
    "## Longest iterable\n",
    "\n",
    "Write a Python program that takes any number of iterable objects or objects with a length property and returns the longest one.\n",
    "\n",
    "> 'Red', 'Green', 'Black', 'Orange' -> 'Red', 'Green', 'Black', 'Orange'  \n",
    "> [1, 2, 3], [1, 2, 3, 4], [1, 2, 3, 4, 5] -> [1, 2, 3, 4, 5]  \n",
    "> [1, 2, 3], 'Java' -> Java  \n",
    "> {10, 100}, 'Python' -> Python  "
   ]
  },
  {
   "cell_type": "code",
   "execution_count": 23,
   "metadata": {},
   "outputs": [
    {
     "name": "stdout",
     "output_type": "stream",
     "text": [
      "Orange\n",
      "[1, 2, 3, 4, 5]\n",
      "Java\n",
      "Python\n"
     ]
    }
   ],
   "source": [
    "# DELETE\n",
    "\n",
    "def longest_item(*args):\n",
    "  return max(args, key = len)\n",
    " \n",
    "print(longest_item('Red', 'Green', 'Black', 'Orange'))\n",
    "print(longest_item([1, 2, 3], [1, 2, 3, 4], [1, 2, 3, 4, 5]))\n",
    "print(longest_item([1, 2, 3], 'Java'))\n",
    "print(longest_item({10, 100}, 'Python'))"
   ]
  },
  {
   "cell_type": "markdown",
   "metadata": {},
   "source": [
    "## Advent of code 2015, day 5\n",
    "\n",
    "The advent of code is a yearly programming challenge during December. It started in 2015 and always has a couple of nice regex-challenges.\n",
    "\n",
    "To try your solution register using your github-account. You'll get a personal input, so you won't be able to simply share a solution (although the programmed solutions can be found on the internet. But be sportsmanlike and give it a go yourself.)\n",
    "\n",
    "The link: [advent of code 2015, day 5](https://adventofcode.com/2015/day/5)\n",
    "\n",
    "We'll give you the assert-statements to test your code for free:"
   ]
  },
  {
   "cell_type": "code",
   "execution_count": null,
   "metadata": {},
   "outputs": [],
   "source": [
    "# Part 1:\n",
    "\n",
    "assert is_nice(\"ugknbfddgicrmopn\") == True\n",
    "assert is_nice(\"aaa\") == True\n",
    "assert is_nice(\"jchzalrnumimnmhp\") == False\n",
    "assert is_nice(\"haegwjzuvuyypxyu\") == False\n",
    "assert is_nice(\"dvszwmarrgswjxmb\") == False\n",
    "\n",
    "# Part 2:\n",
    "\n",
    "asserts = [\n",
    "    (\"qjhvhtzxzqqjkmpb\", True),\n",
    "    (\"xxyxx\", True),\n",
    "    (\"uurcxstgmygtbstg\", False),\n",
    "    (\"ieodomkazucvgmuy\", False),\n",
    "    (\"xyxy\", True),\n",
    "    (\"aabaa\", True),\n",
    "    (\"aabcdefgaa\", False),\n",
    "    (\"abcdefeghi\", False),\n",
    "    (\"xyx\", False),\n",
    "    (\"aaa\", False),\n",
    "    (\"xxyxx\", False), # this one will throw an error, it's to test your error-testing. Throw it out for \"production\".\n",
    "    ]\n",
    "\n",
    "for sentence, truefalse in asserts:\n",
    "    assert is_nicer(sentence) == truefalse"
   ]
  },
  {
   "cell_type": "code",
   "execution_count": 1,
   "metadata": {},
   "outputs": [
    {
     "name": "stdout",
     "output_type": "stream",
     "text": [
      "Part 1: 236\n",
      "Part 2: 51\n"
     ]
    }
   ],
   "source": [
    "# DELETE\n",
    "\n",
    "# Solution:\n",
    "\n",
    "import re\n",
    "\n",
    "regexp = re.compile(r\"(.)\\1\")\n",
    "\n",
    "def is_nice(t):\n",
    "    if sum(map(t.lower().count, \"aeiou\")) < 3:\n",
    "        return False\n",
    "    match = re.search(regexp, t)\n",
    "    if not match:\n",
    "        return False\n",
    "\n",
    "    for pair in [\"ab\", \"cd\", \"pq\", \"xy\"]:\n",
    "        if pair in t:\n",
    "            return False\n",
    "\n",
    "    return True\n",
    "\n",
    "regexp_1 = re.compile(r\"(..).*\\1\")\n",
    "regexp_2 = re.compile(r\"(.).\\1\")\n",
    "\n",
    "def is_nicer(t):\n",
    "    match = re.search(regexp_1, t)\n",
    "    if not match:\n",
    "        return False\n",
    "\n",
    "    match = re.search(regexp_2, t)\n",
    "    if not match:\n",
    "        return False\n",
    "    return True\n",
    "\n",
    "with open(\"day5_input.txt\",\"r\") as f: # change to your own file\n",
    "    raw = f.readlines()\n",
    "data = [ i.strip() for i in raw ]\n",
    "\n",
    "tot_part1 = 0\n",
    "tot_part2 = 0\n",
    "\n",
    "for line in data:\n",
    "    if is_nice(line):\n",
    "        tot_part1 += 1\n",
    "    if is_nicer(line):\n",
    "        tot_part2 += 1\n",
    "\n",
    "print(\"Part 1:\", tot_part1)\n",
    "print(\"Part 2:\", tot_part2)"
   ]
  },
  {
   "cell_type": "markdown",
   "metadata": {},
   "source": [
    "## Advent of code 2015, day 6\n",
    "\n",
    "We won't be doing day 6 entirely, but reading the file is a fun little regex-problem.\n",
    "\n",
    "The link: [advent of code 2015, day 6](https://adventofcode.com/2015/day/6)\n",
    "\n",
    "The problem: you need to read lines like to following:\n",
    "\n",
    "* turn on 606,361 through 892,600\n",
    "* turn off 448,208 through 645,684\n",
    "* toggle 50,472 through 452,788\n",
    "\n",
    "into a datastructure that a function can handle.\n",
    "\n",
    "Once again we provide some assertions:"
   ]
  },
  {
   "cell_type": "code",
   "execution_count": 8,
   "metadata": {},
   "outputs": [],
   "source": [
    "assert translate_line('turn on 606,361 through 892,600') == ('turn on', (606, 361), (892, 600))\n",
    "assert translate_line('turn off 448,208 through 645,684') == ('turn off', (448, 208), (645, 684))\n",
    "assert translate_line('toggle 50,472 through 452,788') == ('toggle', (50, 472), (452, 788))\n",
    "\n",
    "# translate_line('Your code should generate an error now, one you threw yourself using \"raise Exception\".')"
   ]
  },
  {
   "cell_type": "code",
   "execution_count": 9,
   "metadata": {},
   "outputs": [],
   "source": [
    "# DELETE\n",
    "\n",
    "regexp = re.compile(r\"(.*) (\\d{1,3}),(\\d{1,3}) through (\\d{1,3}),(\\d{1,3})\")\n",
    "\n",
    "def translate_line( line ):\n",
    "    match = re.search(regexp, line)\n",
    "    if not match:\n",
    "        raise Exception(\"Line is all wrong: \" + line)\n",
    "\n",
    "    return (match.group(1), (int(match.group(2)), int(match.group(3))), (int(match.group(4)), int(match.group(5))))\n"
   ]
  }
 ],
 "metadata": {
  "interpreter": {
   "hash": "e31c2e8d3ed3a4908bbc2c2b66173ad7e7558239e8d6f52669fbf04aeb9634e1"
  },
  "kernelspec": {
   "display_name": "Python 3.10.2 ('venv': venv)",
   "language": "python",
   "name": "python3"
  },
  "language_info": {
   "codemirror_mode": {
    "name": "ipython",
    "version": 3
   },
   "file_extension": ".py",
   "mimetype": "text/x-python",
   "name": "python",
   "nbconvert_exporter": "python",
   "pygments_lexer": "ipython3",
   "version": "3.10.2"
  },
  "orig_nbformat": 4
 },
 "nbformat": 4,
 "nbformat_minor": 2
}
